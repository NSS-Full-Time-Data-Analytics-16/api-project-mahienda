{
 "cells": [
  {
   "cell_type": "code",
   "execution_count": 2,
   "id": "d922f0bc-5236-4776-9c9f-9f15376e5b86",
   "metadata": {},
   "outputs": [],
   "source": [
    "import requests\n",
    "import pandas as pd"
   ]
  },
  {
   "cell_type": "code",
   "execution_count": 3,
   "id": "ac63f621-3952-4267-a2b4-ecf87edb71b2",
   "metadata": {},
   "outputs": [],
   "source": [
    "gdp_url = \"http://api.worldbank.org/v2/country/all/indicator/NY.GDP.PCAP.PP.KD?format=json&per_page=20000\""
   ]
  },
  {
   "cell_type": "code",
   "execution_count": 4,
   "id": "2f6acdd5-9af6-47aa-945a-01e3f2cb8f39",
   "metadata": {},
   "outputs": [],
   "source": [
    "gdp_response = requests.get(gdp_url)\n"
   ]
  },
  {
   "cell_type": "code",
   "execution_count": 5,
   "id": "56421eb9-2234-4933-8b53-b7bf52e6e762",
   "metadata": {},
   "outputs": [],
   "source": [
    "gdp_json = gdp_response.json()"
   ]
  },
  {
   "cell_type": "code",
   "execution_count": 6,
   "id": "9ecfbb27-f67f-4817-87a9-ed275e49e729",
   "metadata": {},
   "outputs": [],
   "source": [
    "gdp_data = gdp_json[1]"
   ]
  },
  {
   "cell_type": "code",
   "execution_count": 7,
   "id": "6d28231f-f7ca-486c-b327-93c63a96d183",
   "metadata": {},
   "outputs": [],
   "source": [
    "gdp_df = pd.DataFrame(gdp_data)"
   ]
  },
  {
   "cell_type": "code",
   "execution_count": 8,
   "id": "7bea565d-3e7c-4e13-b858-d8c5cfbcb050",
   "metadata": {},
   "outputs": [],
   "source": [
    "gdp_df = gdp_df[['country', 'countryiso3code', 'date', 'value']]"
   ]
  },
  {
   "cell_type": "code",
   "execution_count": 9,
   "id": "ddbccaad-6f8e-47e8-a6ef-998a96266b58",
   "metadata": {},
   "outputs": [],
   "source": [
    "lifeexpect_url = \"http://api.worldbank.org/v2/country/all/indicator/SP.DYN.LE00.IN?format=json&per_page=20000\"\n"
   ]
  },
  {
   "cell_type": "code",
   "execution_count": 12,
   "id": "2138828b-cab3-407f-bad8-6c8f24cf036f",
   "metadata": {},
   "outputs": [],
   "source": [
    "lifeexpect_response = requests.get(lifeexpect_url)"
   ]
  },
  {
   "cell_type": "code",
   "execution_count": 13,
   "id": "ac928e70-12a4-468d-aff7-e17062d4b8e3",
   "metadata": {},
   "outputs": [],
   "source": [
    "lifeexpect_data = lifeexpect_response.json()[1]"
   ]
  },
  {
   "cell_type": "code",
   "execution_count": 14,
   "id": "95d495aa-c11c-4e8a-ba37-5ffecc08533d",
   "metadata": {},
   "outputs": [],
   "source": [
    "lifeexpect_df = pd.DataFrame(lifeexpect_data)\n"
   ]
  },
  {
   "cell_type": "code",
   "execution_count": 15,
   "id": "80d88e13-6dd4-4549-8fd8-3ad01b535c0a",
   "metadata": {},
   "outputs": [],
   "source": [
    "life_df = lifeexpect_df[['country', 'countryiso3code', 'date', 'value']]\n"
   ]
  },
  {
   "cell_type": "code",
   "execution_count": 16,
   "id": "65a9e578-0ba1-470d-af28-99712b3c9673",
   "metadata": {},
   "outputs": [],
   "source": [
    "merged_df = pd.merge(\n",
    "    gdp_df,\n",
    "    lifeexpect_df,\n",
    "    on=[\"countryiso3code\", \"date\"],\n",
    "    suffixes=(\"_gdp\", \"_life\")\n",
    ")\n"
   ]
  },
  {
   "cell_type": "code",
   "execution_count": null,
   "id": "604d7aa4-cd7d-4a15-a5fe-283c007660a8",
   "metadata": {},
   "outputs": [],
   "source": []
  }
 ],
 "metadata": {
  "kernelspec": {
   "display_name": "Python [conda env:base] *",
   "language": "python",
   "name": "conda-base-py"
  },
  "language_info": {
   "codemirror_mode": {
    "name": "ipython",
    "version": 3
   },
   "file_extension": ".py",
   "mimetype": "text/x-python",
   "name": "python",
   "nbconvert_exporter": "python",
   "pygments_lexer": "ipython3",
   "version": "3.13.5"
  }
 },
 "nbformat": 4,
 "nbformat_minor": 5
}
