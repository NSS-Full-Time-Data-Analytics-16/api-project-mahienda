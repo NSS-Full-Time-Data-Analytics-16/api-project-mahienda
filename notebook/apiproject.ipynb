{
 "cells": [
  {
   "cell_type": "code",
   "execution_count": 1,
   "id": "d922f0bc-5236-4776-9c9f-9f15376e5b86",
   "metadata": {},
   "outputs": [],
   "source": [
    "import requests\n",
    "import pandas as pd"
   ]
  },
  {
   "cell_type": "code",
   "execution_count": 2,
   "id": "ac63f621-3952-4267-a2b4-ecf87edb71b2",
   "metadata": {},
   "outputs": [],
   "source": [
    "endpoint= \"https://api.worldbank.org/v2/country/all/indicator/NY.GDP.PCAP.PP.KD\""
   ]
  },
  {
   "cell_type": "code",
   "execution_count": 4,
   "id": "2f6acdd5-9af6-47aa-945a-01e3f2cb8f39",
   "metadata": {},
   "outputs": [],
   "source": [
    "params= {\"format\": \"json\", \"per_page\": 20000}"
   ]
  },
  {
   "cell_type": "code",
   "execution_count": 5,
   "id": "56421eb9-2234-4933-8b53-b7bf52e6e762",
   "metadata": {},
   "outputs": [],
   "source": [
    "res= requests.get(endpoint, params=params).json()"
   ]
  },
  {
   "cell_type": "code",
   "execution_count": 7,
   "id": "6d28231f-f7ca-486c-b327-93c63a96d183",
   "metadata": {},
   "outputs": [],
   "source": [
    "gdp_df =pd.json_normalize(res[1])"
   ]
  },
  {
   "cell_type": "code",
   "execution_count": 8,
   "id": "cb698539-aa18-4f17-8397-a2c68795f9b7",
   "metadata": {},
   "outputs": [
    {
     "name": "stdout",
     "output_type": "stream",
     "text": [
      "['countryiso3code', 'date', 'value', 'unit', 'obs_status', 'decimal', 'indicator.id', 'indicator.value', 'country.id', 'country.value']\n"
     ]
    }
   ],
   "source": [
    "print(gdp_df.columns.tolist())"
   ]
  },
  {
   "cell_type": "code",
   "execution_count": 9,
   "id": "89660bd7-1247-4e22-bac5-e48487e187f2",
   "metadata": {},
   "outputs": [
    {
     "data": {
      "text/html": [
       "<div>\n",
       "<style scoped>\n",
       "    .dataframe tbody tr th:only-of-type {\n",
       "        vertical-align: middle;\n",
       "    }\n",
       "\n",
       "    .dataframe tbody tr th {\n",
       "        vertical-align: top;\n",
       "    }\n",
       "\n",
       "    .dataframe thead th {\n",
       "        text-align: right;\n",
       "    }\n",
       "</style>\n",
       "<table border=\"1\" class=\"dataframe\">\n",
       "  <thead>\n",
       "    <tr style=\"text-align: right;\">\n",
       "      <th></th>\n",
       "      <th>countryiso3code</th>\n",
       "      <th>date</th>\n",
       "      <th>value</th>\n",
       "      <th>unit</th>\n",
       "      <th>obs_status</th>\n",
       "      <th>decimal</th>\n",
       "      <th>indicator.id</th>\n",
       "      <th>indicator.value</th>\n",
       "      <th>country.id</th>\n",
       "      <th>country.value</th>\n",
       "    </tr>\n",
       "  </thead>\n",
       "  <tbody>\n",
       "    <tr>\n",
       "      <th>0</th>\n",
       "      <td>AFE</td>\n",
       "      <td>2024</td>\n",
       "      <td>3968.963751</td>\n",
       "      <td></td>\n",
       "      <td></td>\n",
       "      <td>0</td>\n",
       "      <td>NY.GDP.PCAP.PP.KD</td>\n",
       "      <td>GDP per capita, PPP (constant 2021 internation...</td>\n",
       "      <td>ZH</td>\n",
       "      <td>Africa Eastern and Southern</td>\n",
       "    </tr>\n",
       "    <tr>\n",
       "      <th>1</th>\n",
       "      <td>AFE</td>\n",
       "      <td>2023</td>\n",
       "      <td>3948.142721</td>\n",
       "      <td></td>\n",
       "      <td></td>\n",
       "      <td>0</td>\n",
       "      <td>NY.GDP.PCAP.PP.KD</td>\n",
       "      <td>GDP per capita, PPP (constant 2021 internation...</td>\n",
       "      <td>ZH</td>\n",
       "      <td>Africa Eastern and Southern</td>\n",
       "    </tr>\n",
       "    <tr>\n",
       "      <th>2</th>\n",
       "      <td>AFE</td>\n",
       "      <td>2022</td>\n",
       "      <td>3974.244214</td>\n",
       "      <td></td>\n",
       "      <td></td>\n",
       "      <td>0</td>\n",
       "      <td>NY.GDP.PCAP.PP.KD</td>\n",
       "      <td>GDP per capita, PPP (constant 2021 internation...</td>\n",
       "      <td>ZH</td>\n",
       "      <td>Africa Eastern and Southern</td>\n",
       "    </tr>\n",
       "    <tr>\n",
       "      <th>3</th>\n",
       "      <td>AFE</td>\n",
       "      <td>2021</td>\n",
       "      <td>3933.580905</td>\n",
       "      <td></td>\n",
       "      <td></td>\n",
       "      <td>0</td>\n",
       "      <td>NY.GDP.PCAP.PP.KD</td>\n",
       "      <td>GDP per capita, PPP (constant 2021 internation...</td>\n",
       "      <td>ZH</td>\n",
       "      <td>Africa Eastern and Southern</td>\n",
       "    </tr>\n",
       "    <tr>\n",
       "      <th>4</th>\n",
       "      <td>AFE</td>\n",
       "      <td>2020</td>\n",
       "      <td>3861.068816</td>\n",
       "      <td></td>\n",
       "      <td></td>\n",
       "      <td>0</td>\n",
       "      <td>NY.GDP.PCAP.PP.KD</td>\n",
       "      <td>GDP per capita, PPP (constant 2021 internation...</td>\n",
       "      <td>ZH</td>\n",
       "      <td>Africa Eastern and Southern</td>\n",
       "    </tr>\n",
       "    <tr>\n",
       "      <th>5</th>\n",
       "      <td>AFE</td>\n",
       "      <td>2019</td>\n",
       "      <td>4073.653989</td>\n",
       "      <td></td>\n",
       "      <td></td>\n",
       "      <td>0</td>\n",
       "      <td>NY.GDP.PCAP.PP.KD</td>\n",
       "      <td>GDP per capita, PPP (constant 2021 internation...</td>\n",
       "      <td>ZH</td>\n",
       "      <td>Africa Eastern and Southern</td>\n",
       "    </tr>\n",
       "    <tr>\n",
       "      <th>6</th>\n",
       "      <td>AFE</td>\n",
       "      <td>2018</td>\n",
       "      <td>4088.402831</td>\n",
       "      <td></td>\n",
       "      <td></td>\n",
       "      <td>0</td>\n",
       "      <td>NY.GDP.PCAP.PP.KD</td>\n",
       "      <td>GDP per capita, PPP (constant 2021 internation...</td>\n",
       "      <td>ZH</td>\n",
       "      <td>Africa Eastern and Southern</td>\n",
       "    </tr>\n",
       "    <tr>\n",
       "      <th>7</th>\n",
       "      <td>AFE</td>\n",
       "      <td>2017</td>\n",
       "      <td>4085.466233</td>\n",
       "      <td></td>\n",
       "      <td></td>\n",
       "      <td>0</td>\n",
       "      <td>NY.GDP.PCAP.PP.KD</td>\n",
       "      <td>GDP per capita, PPP (constant 2021 internation...</td>\n",
       "      <td>ZH</td>\n",
       "      <td>Africa Eastern and Southern</td>\n",
       "    </tr>\n",
       "    <tr>\n",
       "      <th>8</th>\n",
       "      <td>AFE</td>\n",
       "      <td>2016</td>\n",
       "      <td>4074.187591</td>\n",
       "      <td></td>\n",
       "      <td></td>\n",
       "      <td>0</td>\n",
       "      <td>NY.GDP.PCAP.PP.KD</td>\n",
       "      <td>GDP per capita, PPP (constant 2021 internation...</td>\n",
       "      <td>ZH</td>\n",
       "      <td>Africa Eastern and Southern</td>\n",
       "    </tr>\n",
       "    <tr>\n",
       "      <th>9</th>\n",
       "      <td>AFE</td>\n",
       "      <td>2015</td>\n",
       "      <td>4075.159661</td>\n",
       "      <td></td>\n",
       "      <td></td>\n",
       "      <td>0</td>\n",
       "      <td>NY.GDP.PCAP.PP.KD</td>\n",
       "      <td>GDP per capita, PPP (constant 2021 internation...</td>\n",
       "      <td>ZH</td>\n",
       "      <td>Africa Eastern and Southern</td>\n",
       "    </tr>\n",
       "  </tbody>\n",
       "</table>\n",
       "</div>"
      ],
      "text/plain": [
       "  countryiso3code  date        value unit obs_status  decimal  \\\n",
       "0             AFE  2024  3968.963751                        0   \n",
       "1             AFE  2023  3948.142721                        0   \n",
       "2             AFE  2022  3974.244214                        0   \n",
       "3             AFE  2021  3933.580905                        0   \n",
       "4             AFE  2020  3861.068816                        0   \n",
       "5             AFE  2019  4073.653989                        0   \n",
       "6             AFE  2018  4088.402831                        0   \n",
       "7             AFE  2017  4085.466233                        0   \n",
       "8             AFE  2016  4074.187591                        0   \n",
       "9             AFE  2015  4075.159661                        0   \n",
       "\n",
       "        indicator.id                                    indicator.value  \\\n",
       "0  NY.GDP.PCAP.PP.KD  GDP per capita, PPP (constant 2021 internation...   \n",
       "1  NY.GDP.PCAP.PP.KD  GDP per capita, PPP (constant 2021 internation...   \n",
       "2  NY.GDP.PCAP.PP.KD  GDP per capita, PPP (constant 2021 internation...   \n",
       "3  NY.GDP.PCAP.PP.KD  GDP per capita, PPP (constant 2021 internation...   \n",
       "4  NY.GDP.PCAP.PP.KD  GDP per capita, PPP (constant 2021 internation...   \n",
       "5  NY.GDP.PCAP.PP.KD  GDP per capita, PPP (constant 2021 internation...   \n",
       "6  NY.GDP.PCAP.PP.KD  GDP per capita, PPP (constant 2021 internation...   \n",
       "7  NY.GDP.PCAP.PP.KD  GDP per capita, PPP (constant 2021 internation...   \n",
       "8  NY.GDP.PCAP.PP.KD  GDP per capita, PPP (constant 2021 internation...   \n",
       "9  NY.GDP.PCAP.PP.KD  GDP per capita, PPP (constant 2021 internation...   \n",
       "\n",
       "  country.id                country.value  \n",
       "0         ZH  Africa Eastern and Southern  \n",
       "1         ZH  Africa Eastern and Southern  \n",
       "2         ZH  Africa Eastern and Southern  \n",
       "3         ZH  Africa Eastern and Southern  \n",
       "4         ZH  Africa Eastern and Southern  \n",
       "5         ZH  Africa Eastern and Southern  \n",
       "6         ZH  Africa Eastern and Southern  \n",
       "7         ZH  Africa Eastern and Southern  \n",
       "8         ZH  Africa Eastern and Southern  \n",
       "9         ZH  Africa Eastern and Southern  "
      ]
     },
     "execution_count": 9,
     "metadata": {},
     "output_type": "execute_result"
    }
   ],
   "source": [
    "gdp_df.head(10)"
   ]
  },
  {
   "cell_type": "code",
   "execution_count": 10,
   "id": "ddbccaad-6f8e-47e8-a6ef-998a96266b58",
   "metadata": {},
   "outputs": [],
   "source": [
    "lifeexpect_url= \"https://api.worldbank.org/v2/country/all/indicator/SP.DYN.LE00.IN\""
   ]
  },
  {
   "cell_type": "code",
   "execution_count": 12,
   "id": "2138828b-cab3-407f-bad8-6c8f24cf036f",
   "metadata": {},
   "outputs": [],
   "source": [
    "lifeexpect_response= requests.get(lifeexpect_url, params=params).json()"
   ]
  },
  {
   "cell_type": "code",
   "execution_count": 14,
   "id": "ac928e70-12a4-468d-aff7-e17062d4b8e3",
   "metadata": {},
   "outputs": [],
   "source": [
    "lifeexpect_df = pd.json_normalize(lifeexpect_response[1])"
   ]
  },
  {
   "cell_type": "code",
   "execution_count": 15,
   "id": "95d495aa-c11c-4e8a-ba37-5ffecc08533d",
   "metadata": {},
   "outputs": [
    {
     "name": "stdout",
     "output_type": "stream",
     "text": [
      "['countryiso3code', 'date', 'value', 'unit', 'obs_status', 'decimal', 'indicator.id', 'indicator.value', 'country.id', 'country.value']\n"
     ]
    }
   ],
   "source": [
    "print(lifeexpect_df.columns.tolist())"
   ]
  },
  {
   "cell_type": "code",
   "execution_count": 16,
   "id": "f3612089-78d1-47ac-9c40-fe7c029517c2",
   "metadata": {},
   "outputs": [
    {
     "data": {
      "text/html": [
       "<div>\n",
       "<style scoped>\n",
       "    .dataframe tbody tr th:only-of-type {\n",
       "        vertical-align: middle;\n",
       "    }\n",
       "\n",
       "    .dataframe tbody tr th {\n",
       "        vertical-align: top;\n",
       "    }\n",
       "\n",
       "    .dataframe thead th {\n",
       "        text-align: right;\n",
       "    }\n",
       "</style>\n",
       "<table border=\"1\" class=\"dataframe\">\n",
       "  <thead>\n",
       "    <tr style=\"text-align: right;\">\n",
       "      <th></th>\n",
       "      <th>countryiso3code</th>\n",
       "      <th>date</th>\n",
       "      <th>value</th>\n",
       "      <th>unit</th>\n",
       "      <th>obs_status</th>\n",
       "      <th>decimal</th>\n",
       "      <th>indicator.id</th>\n",
       "      <th>indicator.value</th>\n",
       "      <th>country.id</th>\n",
       "      <th>country.value</th>\n",
       "    </tr>\n",
       "  </thead>\n",
       "  <tbody>\n",
       "    <tr>\n",
       "      <th>0</th>\n",
       "      <td>AFE</td>\n",
       "      <td>2024</td>\n",
       "      <td>NaN</td>\n",
       "      <td></td>\n",
       "      <td></td>\n",
       "      <td>0</td>\n",
       "      <td>SP.DYN.LE00.IN</td>\n",
       "      <td>Life expectancy at birth, total (years)</td>\n",
       "      <td>ZH</td>\n",
       "      <td>Africa Eastern and Southern</td>\n",
       "    </tr>\n",
       "    <tr>\n",
       "      <th>1</th>\n",
       "      <td>AFE</td>\n",
       "      <td>2023</td>\n",
       "      <td>65.146291</td>\n",
       "      <td></td>\n",
       "      <td></td>\n",
       "      <td>0</td>\n",
       "      <td>SP.DYN.LE00.IN</td>\n",
       "      <td>Life expectancy at birth, total (years)</td>\n",
       "      <td>ZH</td>\n",
       "      <td>Africa Eastern and Southern</td>\n",
       "    </tr>\n",
       "    <tr>\n",
       "      <th>2</th>\n",
       "      <td>AFE</td>\n",
       "      <td>2022</td>\n",
       "      <td>64.487020</td>\n",
       "      <td></td>\n",
       "      <td></td>\n",
       "      <td>0</td>\n",
       "      <td>SP.DYN.LE00.IN</td>\n",
       "      <td>Life expectancy at birth, total (years)</td>\n",
       "      <td>ZH</td>\n",
       "      <td>Africa Eastern and Southern</td>\n",
       "    </tr>\n",
       "    <tr>\n",
       "      <th>3</th>\n",
       "      <td>AFE</td>\n",
       "      <td>2021</td>\n",
       "      <td>62.979999</td>\n",
       "      <td></td>\n",
       "      <td></td>\n",
       "      <td>0</td>\n",
       "      <td>SP.DYN.LE00.IN</td>\n",
       "      <td>Life expectancy at birth, total (years)</td>\n",
       "      <td>ZH</td>\n",
       "      <td>Africa Eastern and Southern</td>\n",
       "    </tr>\n",
       "    <tr>\n",
       "      <th>4</th>\n",
       "      <td>AFE</td>\n",
       "      <td>2020</td>\n",
       "      <td>63.766484</td>\n",
       "      <td></td>\n",
       "      <td></td>\n",
       "      <td>0</td>\n",
       "      <td>SP.DYN.LE00.IN</td>\n",
       "      <td>Life expectancy at birth, total (years)</td>\n",
       "      <td>ZH</td>\n",
       "      <td>Africa Eastern and Southern</td>\n",
       "    </tr>\n",
       "    <tr>\n",
       "      <th>5</th>\n",
       "      <td>AFE</td>\n",
       "      <td>2019</td>\n",
       "      <td>63.857261</td>\n",
       "      <td></td>\n",
       "      <td></td>\n",
       "      <td>0</td>\n",
       "      <td>SP.DYN.LE00.IN</td>\n",
       "      <td>Life expectancy at birth, total (years)</td>\n",
       "      <td>ZH</td>\n",
       "      <td>Africa Eastern and Southern</td>\n",
       "    </tr>\n",
       "    <tr>\n",
       "      <th>6</th>\n",
       "      <td>AFE</td>\n",
       "      <td>2018</td>\n",
       "      <td>63.330691</td>\n",
       "      <td></td>\n",
       "      <td></td>\n",
       "      <td>0</td>\n",
       "      <td>SP.DYN.LE00.IN</td>\n",
       "      <td>Life expectancy at birth, total (years)</td>\n",
       "      <td>ZH</td>\n",
       "      <td>Africa Eastern and Southern</td>\n",
       "    </tr>\n",
       "    <tr>\n",
       "      <th>7</th>\n",
       "      <td>AFE</td>\n",
       "      <td>2017</td>\n",
       "      <td>62.591275</td>\n",
       "      <td></td>\n",
       "      <td></td>\n",
       "      <td>0</td>\n",
       "      <td>SP.DYN.LE00.IN</td>\n",
       "      <td>Life expectancy at birth, total (years)</td>\n",
       "      <td>ZH</td>\n",
       "      <td>Africa Eastern and Southern</td>\n",
       "    </tr>\n",
       "    <tr>\n",
       "      <th>8</th>\n",
       "      <td>AFE</td>\n",
       "      <td>2016</td>\n",
       "      <td>62.167981</td>\n",
       "      <td></td>\n",
       "      <td></td>\n",
       "      <td>0</td>\n",
       "      <td>SP.DYN.LE00.IN</td>\n",
       "      <td>Life expectancy at birth, total (years)</td>\n",
       "      <td>ZH</td>\n",
       "      <td>Africa Eastern and Southern</td>\n",
       "    </tr>\n",
       "    <tr>\n",
       "      <th>9</th>\n",
       "      <td>AFE</td>\n",
       "      <td>2015</td>\n",
       "      <td>61.713031</td>\n",
       "      <td></td>\n",
       "      <td></td>\n",
       "      <td>0</td>\n",
       "      <td>SP.DYN.LE00.IN</td>\n",
       "      <td>Life expectancy at birth, total (years)</td>\n",
       "      <td>ZH</td>\n",
       "      <td>Africa Eastern and Southern</td>\n",
       "    </tr>\n",
       "  </tbody>\n",
       "</table>\n",
       "</div>"
      ],
      "text/plain": [
       "  countryiso3code  date      value unit obs_status  decimal    indicator.id  \\\n",
       "0             AFE  2024        NaN                        0  SP.DYN.LE00.IN   \n",
       "1             AFE  2023  65.146291                        0  SP.DYN.LE00.IN   \n",
       "2             AFE  2022  64.487020                        0  SP.DYN.LE00.IN   \n",
       "3             AFE  2021  62.979999                        0  SP.DYN.LE00.IN   \n",
       "4             AFE  2020  63.766484                        0  SP.DYN.LE00.IN   \n",
       "5             AFE  2019  63.857261                        0  SP.DYN.LE00.IN   \n",
       "6             AFE  2018  63.330691                        0  SP.DYN.LE00.IN   \n",
       "7             AFE  2017  62.591275                        0  SP.DYN.LE00.IN   \n",
       "8             AFE  2016  62.167981                        0  SP.DYN.LE00.IN   \n",
       "9             AFE  2015  61.713031                        0  SP.DYN.LE00.IN   \n",
       "\n",
       "                           indicator.value country.id  \\\n",
       "0  Life expectancy at birth, total (years)         ZH   \n",
       "1  Life expectancy at birth, total (years)         ZH   \n",
       "2  Life expectancy at birth, total (years)         ZH   \n",
       "3  Life expectancy at birth, total (years)         ZH   \n",
       "4  Life expectancy at birth, total (years)         ZH   \n",
       "5  Life expectancy at birth, total (years)         ZH   \n",
       "6  Life expectancy at birth, total (years)         ZH   \n",
       "7  Life expectancy at birth, total (years)         ZH   \n",
       "8  Life expectancy at birth, total (years)         ZH   \n",
       "9  Life expectancy at birth, total (years)         ZH   \n",
       "\n",
       "                 country.value  \n",
       "0  Africa Eastern and Southern  \n",
       "1  Africa Eastern and Southern  \n",
       "2  Africa Eastern and Southern  \n",
       "3  Africa Eastern and Southern  \n",
       "4  Africa Eastern and Southern  \n",
       "5  Africa Eastern and Southern  \n",
       "6  Africa Eastern and Southern  \n",
       "7  Africa Eastern and Southern  \n",
       "8  Africa Eastern and Southern  \n",
       "9  Africa Eastern and Southern  "
      ]
     },
     "execution_count": 16,
     "metadata": {},
     "output_type": "execute_result"
    }
   ],
   "source": [
    "lifeexpect_df.head(10)"
   ]
  },
  {
   "cell_type": "code",
   "execution_count": 17,
   "id": "08a68997-82f5-485f-b2a3-117b8ce33f1f",
   "metadata": {},
   "outputs": [
    {
     "name": "stdout",
     "output_type": "stream",
     "text": [
      "['countryiso3code', 'date', 'value', 'unit', 'obs_status', 'decimal', 'indicator.id', 'indicator.value', 'country.id', 'country.value']\n"
     ]
    }
   ],
   "source": [
    "print(gdp_df.columns.tolist())"
   ]
  },
  {
   "cell_type": "code",
   "execution_count": 18,
   "id": "e57db98c-6638-4d3a-b728-26fb535052b9",
   "metadata": {},
   "outputs": [
    {
     "name": "stdout",
     "output_type": "stream",
     "text": [
      "['countryiso3code', 'date', 'value', 'unit', 'obs_status', 'decimal', 'indicator.id', 'indicator.value', 'country.id', 'country.value']\n"
     ]
    }
   ],
   "source": [
    "print(lifeexpect_df.columns.tolist())"
   ]
  },
  {
   "cell_type": "code",
   "execution_count": 22,
   "id": "65a9e578-0ba1-470d-af28-99712b3c9673",
   "metadata": {},
   "outputs": [],
   "source": [
    "merged = pd.merge(\n",
    "    gdp_df,\n",
    "    lifeexpect_df,\n",
    "    on=['countryiso3code', 'date', 'country.id', 'country.value'],\n",
    "    how=\"inner\"\n",
    ")\n"
   ]
  },
  {
   "cell_type": "code",
   "execution_count": 23,
   "id": "604d7aa4-cd7d-4a15-a5fe-283c007660a8",
   "metadata": {},
   "outputs": [
    {
     "name": "stdout",
     "output_type": "stream",
     "text": [
      "      countryiso3code  date      value_x unit_x obs_status_x  decimal_x  \\\n",
      "0                 AFE  2024  3968.963751                              0   \n",
      "1                 AFE  2023  3948.142721                              0   \n",
      "2                 AFE  2022  3974.244214                              0   \n",
      "3                 AFE  2021  3933.580905                              0   \n",
      "4                 AFE  2020  3861.068816                              0   \n",
      "...               ...   ...          ...    ...          ...        ...   \n",
      "17285             ZWE  1964          NaN                              0   \n",
      "17286             ZWE  1963          NaN                              0   \n",
      "17287             ZWE  1962          NaN                              0   \n",
      "17288             ZWE  1961          NaN                              0   \n",
      "17289             ZWE  1960          NaN                              0   \n",
      "\n",
      "          indicator.id_x                                  indicator.value_x  \\\n",
      "0      NY.GDP.PCAP.PP.KD  GDP per capita, PPP (constant 2021 internation...   \n",
      "1      NY.GDP.PCAP.PP.KD  GDP per capita, PPP (constant 2021 internation...   \n",
      "2      NY.GDP.PCAP.PP.KD  GDP per capita, PPP (constant 2021 internation...   \n",
      "3      NY.GDP.PCAP.PP.KD  GDP per capita, PPP (constant 2021 internation...   \n",
      "4      NY.GDP.PCAP.PP.KD  GDP per capita, PPP (constant 2021 internation...   \n",
      "...                  ...                                                ...   \n",
      "17285  NY.GDP.PCAP.PP.KD  GDP per capita, PPP (constant 2021 internation...   \n",
      "17286  NY.GDP.PCAP.PP.KD  GDP per capita, PPP (constant 2021 internation...   \n",
      "17287  NY.GDP.PCAP.PP.KD  GDP per capita, PPP (constant 2021 internation...   \n",
      "17288  NY.GDP.PCAP.PP.KD  GDP per capita, PPP (constant 2021 internation...   \n",
      "17289  NY.GDP.PCAP.PP.KD  GDP per capita, PPP (constant 2021 internation...   \n",
      "\n",
      "      country.id                country.value    value_y unit_y obs_status_y  \\\n",
      "0             ZH  Africa Eastern and Southern        NaN                       \n",
      "1             ZH  Africa Eastern and Southern  65.146291                       \n",
      "2             ZH  Africa Eastern and Southern  64.487020                       \n",
      "3             ZH  Africa Eastern and Southern  62.979999                       \n",
      "4             ZH  Africa Eastern and Southern  63.766484                       \n",
      "...          ...                          ...        ...    ...          ...   \n",
      "17285         ZW                     Zimbabwe  55.431000                       \n",
      "17286         ZW                     Zimbabwe  54.942000                       \n",
      "17287         ZW                     Zimbabwe  54.453000                       \n",
      "17288         ZW                     Zimbabwe  53.966000                       \n",
      "17289         ZW                     Zimbabwe  53.492000                       \n",
      "\n",
      "       decimal_y  indicator.id_y                        indicator.value_y  \n",
      "0              0  SP.DYN.LE00.IN  Life expectancy at birth, total (years)  \n",
      "1              0  SP.DYN.LE00.IN  Life expectancy at birth, total (years)  \n",
      "2              0  SP.DYN.LE00.IN  Life expectancy at birth, total (years)  \n",
      "3              0  SP.DYN.LE00.IN  Life expectancy at birth, total (years)  \n",
      "4              0  SP.DYN.LE00.IN  Life expectancy at birth, total (years)  \n",
      "...          ...             ...                                      ...  \n",
      "17285          0  SP.DYN.LE00.IN  Life expectancy at birth, total (years)  \n",
      "17286          0  SP.DYN.LE00.IN  Life expectancy at birth, total (years)  \n",
      "17287          0  SP.DYN.LE00.IN  Life expectancy at birth, total (years)  \n",
      "17288          0  SP.DYN.LE00.IN  Life expectancy at birth, total (years)  \n",
      "17289          0  SP.DYN.LE00.IN  Life expectancy at birth, total (years)  \n",
      "\n",
      "[17290 rows x 16 columns]\n"
     ]
    }
   ],
   "source": [
    "print(merged)"
   ]
  },
  {
   "cell_type": "code",
   "execution_count": 24,
   "id": "3d0babbc-0b44-4aa0-adc7-14c83225a01b",
   "metadata": {},
   "outputs": [
    {
     "name": "stdout",
     "output_type": "stream",
     "text": [
      "  countryiso3code  date      value_x unit_x obs_status_x  decimal_x  \\\n",
      "0             AFE  2024  3968.963751                              0   \n",
      "1             AFE  2023  3948.142721                              0   \n",
      "2             AFE  2022  3974.244214                              0   \n",
      "3             AFE  2021  3933.580905                              0   \n",
      "4             AFE  2020  3861.068816                              0   \n",
      "\n",
      "      indicator.id_x                                  indicator.value_x  \\\n",
      "0  NY.GDP.PCAP.PP.KD  GDP per capita, PPP (constant 2021 internation...   \n",
      "1  NY.GDP.PCAP.PP.KD  GDP per capita, PPP (constant 2021 internation...   \n",
      "2  NY.GDP.PCAP.PP.KD  GDP per capita, PPP (constant 2021 internation...   \n",
      "3  NY.GDP.PCAP.PP.KD  GDP per capita, PPP (constant 2021 internation...   \n",
      "4  NY.GDP.PCAP.PP.KD  GDP per capita, PPP (constant 2021 internation...   \n",
      "\n",
      "  country.id                country.value    value_y unit_y obs_status_y  \\\n",
      "0         ZH  Africa Eastern and Southern        NaN                       \n",
      "1         ZH  Africa Eastern and Southern  65.146291                       \n",
      "2         ZH  Africa Eastern and Southern  64.487020                       \n",
      "3         ZH  Africa Eastern and Southern  62.979999                       \n",
      "4         ZH  Africa Eastern and Southern  63.766484                       \n",
      "\n",
      "   decimal_y  indicator.id_y                        indicator.value_y  \n",
      "0          0  SP.DYN.LE00.IN  Life expectancy at birth, total (years)  \n",
      "1          0  SP.DYN.LE00.IN  Life expectancy at birth, total (years)  \n",
      "2          0  SP.DYN.LE00.IN  Life expectancy at birth, total (years)  \n",
      "3          0  SP.DYN.LE00.IN  Life expectancy at birth, total (years)  \n",
      "4          0  SP.DYN.LE00.IN  Life expectancy at birth, total (years)  \n"
     ]
    }
   ],
   "source": [
    "print(merged.head())"
   ]
  },
  {
   "cell_type": "code",
   "execution_count": 25,
   "id": "6a3b3ea6-dfb1-4b3a-9305-9f5f030bc402",
   "metadata": {},
   "outputs": [],
   "source": [
    "country_url = \"https://api.worldbank.org/v2/country\""
   ]
  },
  {
   "cell_type": "code",
   "execution_count": 26,
   "id": "9e55d9f9-81b7-4171-aa90-4f6db9fdf135",
   "metadata": {},
   "outputs": [],
   "source": [
    "params = {\"format\": \"json\", \"per_page\": 500}"
   ]
  },
  {
   "cell_type": "code",
   "execution_count": 27,
   "id": "baa1bf4e-37dd-4f67-8680-d8ad98952170",
   "metadata": {},
   "outputs": [],
   "source": [
    "country_res = requests.get(country_url, params=params).json()"
   ]
  },
  {
   "cell_type": "code",
   "execution_count": 28,
   "id": "98077ae7-c562-43b2-ab07-7a993614081c",
   "metadata": {},
   "outputs": [],
   "source": [
    "country_df = pd.json_normalize(country_res[1])"
   ]
  },
  {
   "cell_type": "code",
   "execution_count": 29,
   "id": "f75deb7b-6cce-4a2e-9033-a6f307922078",
   "metadata": {},
   "outputs": [
    {
     "name": "stdout",
     "output_type": "stream",
     "text": [
      "['id', 'iso2Code', 'name', 'capitalCity', 'longitude', 'latitude', 'region.id', 'region.iso2code', 'region.value', 'adminregion.id', 'adminregion.iso2code', 'adminregion.value', 'incomeLevel.id', 'incomeLevel.iso2code', 'incomeLevel.value', 'lendingType.id', 'lendingType.iso2code', 'lendingType.value']\n"
     ]
    }
   ],
   "source": [
    "print(country_df.columns.tolist())"
   ]
  },
  {
   "cell_type": "code",
   "execution_count": 30,
   "id": "15b46783-04fd-4399-abb1-776a0b73e6a2",
   "metadata": {},
   "outputs": [
    {
     "name": "stdout",
     "output_type": "stream",
     "text": [
      "    id iso2Code                         name capitalCity longitude latitude  \\\n",
      "0  ABW       AW                        Aruba  Oranjestad  -70.0167  12.5167   \n",
      "1  AFE       ZH  Africa Eastern and Southern                                  \n",
      "2  AFG       AF                  Afghanistan       Kabul   69.1761  34.5228   \n",
      "3  AFR       A9                       Africa                                  \n",
      "4  AFW       ZI   Africa Western and Central                                  \n",
      "\n",
      "  region.id region.iso2code  \\\n",
      "0       LCN              ZJ   \n",
      "1        NA              NA   \n",
      "2       MEA              ZQ   \n",
      "3        NA              NA   \n",
      "4        NA              NA   \n",
      "\n",
      "                                        region.value adminregion.id  \\\n",
      "0                         Latin America & Caribbean                   \n",
      "1                                         Aggregates                  \n",
      "2  Middle East, North Africa, Afghanistan & Pakistan            MNA   \n",
      "3                                         Aggregates                  \n",
      "4                                         Aggregates                  \n",
      "\n",
      "  adminregion.iso2code                                  adminregion.value  \\\n",
      "0                                                                           \n",
      "1                                                                           \n",
      "2                   XQ  Middle East, North Africa, Afghanistan & Pakis...   \n",
      "3                                                                           \n",
      "4                                                                           \n",
      "\n",
      "  incomeLevel.id incomeLevel.iso2code incomeLevel.value lendingType.id  \\\n",
      "0            HIC                   XD       High income            LNX   \n",
      "1             NA                   NA        Aggregates                  \n",
      "2            LIC                   XM        Low income            IDX   \n",
      "3             NA                   NA        Aggregates                  \n",
      "4             NA                   NA        Aggregates                  \n",
      "\n",
      "  lendingType.iso2code lendingType.value  \n",
      "0                   XX    Not classified  \n",
      "1                             Aggregates  \n",
      "2                   XI               IDA  \n",
      "3                             Aggregates  \n",
      "4                             Aggregates  \n"
     ]
    }
   ],
   "source": [
    "print(country_df.head())"
   ]
  },
  {
   "cell_type": "code",
   "execution_count": 31,
   "id": "95ff882d-d8da-4983-96d1-5b4b20b6f3f5",
   "metadata": {},
   "outputs": [],
   "source": [
    "country_df = country_df[country_df[\"region.id\"] != \"NA\"]"
   ]
  },
  {
   "cell_type": "code",
   "execution_count": 32,
   "id": "cc842e2c-56ec-4f54-8a1a-a6e35e5ce493",
   "metadata": {},
   "outputs": [],
   "source": [
    "country_df = country_df[[\"id\", \"name\", \"region.value\", \"incomeLevel.value\", \"capitalCity\"]]"
   ]
  },
  {
   "cell_type": "code",
   "execution_count": 33,
   "id": "0144f82c-4ce7-4364-978e-cc20ebb5e6ee",
   "metadata": {},
   "outputs": [],
   "source": [
    "fullmerge = pd.merge(\n",
    "    merged,\n",
    "    country_df,\n",
    "    left_on=\"countryiso3code\",   \n",
    "    right_on=\"id\",               \n",
    "    how=\"left\"\n",
    ")"
   ]
  },
  {
   "cell_type": "code",
   "execution_count": 34,
   "id": "54b45e7f-df05-41d8-8ba6-3cc56dd5877b",
   "metadata": {},
   "outputs": [
    {
     "name": "stdout",
     "output_type": "stream",
     "text": [
      "  countryiso3code  date      value_x unit_x obs_status_x  decimal_x  \\\n",
      "0             AFE  2024  3968.963751                              0   \n",
      "1             AFE  2023  3948.142721                              0   \n",
      "2             AFE  2022  3974.244214                              0   \n",
      "3             AFE  2021  3933.580905                              0   \n",
      "4             AFE  2020  3861.068816                              0   \n",
      "\n",
      "      indicator.id_x                                  indicator.value_x  \\\n",
      "0  NY.GDP.PCAP.PP.KD  GDP per capita, PPP (constant 2021 internation...   \n",
      "1  NY.GDP.PCAP.PP.KD  GDP per capita, PPP (constant 2021 internation...   \n",
      "2  NY.GDP.PCAP.PP.KD  GDP per capita, PPP (constant 2021 internation...   \n",
      "3  NY.GDP.PCAP.PP.KD  GDP per capita, PPP (constant 2021 internation...   \n",
      "4  NY.GDP.PCAP.PP.KD  GDP per capita, PPP (constant 2021 internation...   \n",
      "\n",
      "  country.id                country.value  ...  unit_y obs_status_y decimal_y  \\\n",
      "0         ZH  Africa Eastern and Southern  ...                              0   \n",
      "1         ZH  Africa Eastern and Southern  ...                              0   \n",
      "2         ZH  Africa Eastern and Southern  ...                              0   \n",
      "3         ZH  Africa Eastern and Southern  ...                              0   \n",
      "4         ZH  Africa Eastern and Southern  ...                              0   \n",
      "\n",
      "   indicator.id_y                        indicator.value_y   id name  \\\n",
      "0  SP.DYN.LE00.IN  Life expectancy at birth, total (years)  NaN  NaN   \n",
      "1  SP.DYN.LE00.IN  Life expectancy at birth, total (years)  NaN  NaN   \n",
      "2  SP.DYN.LE00.IN  Life expectancy at birth, total (years)  NaN  NaN   \n",
      "3  SP.DYN.LE00.IN  Life expectancy at birth, total (years)  NaN  NaN   \n",
      "4  SP.DYN.LE00.IN  Life expectancy at birth, total (years)  NaN  NaN   \n",
      "\n",
      "  region.value incomeLevel.value capitalCity  \n",
      "0          NaN               NaN         NaN  \n",
      "1          NaN               NaN         NaN  \n",
      "2          NaN               NaN         NaN  \n",
      "3          NaN               NaN         NaN  \n",
      "4          NaN               NaN         NaN  \n",
      "\n",
      "[5 rows x 21 columns]\n"
     ]
    }
   ],
   "source": [
    "print(fullmerge.head())"
   ]
  },
  {
   "cell_type": "code",
   "execution_count": null,
   "id": "84327f48-6705-441b-bdfb-f47bd35d8504",
   "metadata": {},
   "outputs": [],
   "source": [
    "#something is wrong "
   ]
  },
  {
   "cell_type": "code",
   "execution_count": 36,
   "id": "cfd952da-693b-4864-86e7-fffeaf478450",
   "metadata": {},
   "outputs": [
    {
     "name": "stdout",
     "output_type": "stream",
     "text": [
      "  countryiso3code  date      value_x unit_x obs_status_x  decimal_x  \\\n",
      "0             AFE  2024  3968.963751                              0   \n",
      "1             AFE  2023  3948.142721                              0   \n",
      "2             AFE  2022  3974.244214                              0   \n",
      "3             AFE  2021  3933.580905                              0   \n",
      "4             AFE  2020  3861.068816                              0   \n",
      "\n",
      "      indicator.id_x                                  indicator.value_x  \\\n",
      "0  NY.GDP.PCAP.PP.KD  GDP per capita, PPP (constant 2021 internation...   \n",
      "1  NY.GDP.PCAP.PP.KD  GDP per capita, PPP (constant 2021 internation...   \n",
      "2  NY.GDP.PCAP.PP.KD  GDP per capita, PPP (constant 2021 internation...   \n",
      "3  NY.GDP.PCAP.PP.KD  GDP per capita, PPP (constant 2021 internation...   \n",
      "4  NY.GDP.PCAP.PP.KD  GDP per capita, PPP (constant 2021 internation...   \n",
      "\n",
      "  country.id                country.value  ...  unit_y obs_status_y decimal_y  \\\n",
      "0         ZH  Africa Eastern and Southern  ...                              0   \n",
      "1         ZH  Africa Eastern and Southern  ...                              0   \n",
      "2         ZH  Africa Eastern and Southern  ...                              0   \n",
      "3         ZH  Africa Eastern and Southern  ...                              0   \n",
      "4         ZH  Africa Eastern and Southern  ...                              0   \n",
      "\n",
      "   indicator.id_y                        indicator.value_y   id name  \\\n",
      "0  SP.DYN.LE00.IN  Life expectancy at birth, total (years)  NaN  NaN   \n",
      "1  SP.DYN.LE00.IN  Life expectancy at birth, total (years)  NaN  NaN   \n",
      "2  SP.DYN.LE00.IN  Life expectancy at birth, total (years)  NaN  NaN   \n",
      "3  SP.DYN.LE00.IN  Life expectancy at birth, total (years)  NaN  NaN   \n",
      "4  SP.DYN.LE00.IN  Life expectancy at birth, total (years)  NaN  NaN   \n",
      "\n",
      "  region.value incomeLevel.value capitalCity  \n",
      "0          NaN               NaN         NaN  \n",
      "1          NaN               NaN         NaN  \n",
      "2          NaN               NaN         NaN  \n",
      "3          NaN               NaN         NaN  \n",
      "4          NaN               NaN         NaN  \n",
      "\n",
      "[5 rows x 21 columns]\n"
     ]
    }
   ],
   "source": [
    "print(fullmerge2.head())"
   ]
  },
  {
   "cell_type": "code",
   "execution_count": 39,
   "id": "473e06fe-fd03-4e63-8541-39fcf140fdc4",
   "metadata": {},
   "outputs": [],
   "source": [
    "fullmerge2 = merged.merge(\n",
    "    country_df,\n",
    "    left_on=\"country.id\",   \n",
    "    right_on=\"id\",               \n",
    "    how=\"left\"\n",
    ")"
   ]
  },
  {
   "cell_type": "code",
   "execution_count": 40,
   "id": "cbaaaa7a-6377-4274-989b-cb5b36a9f0dd",
   "metadata": {},
   "outputs": [
    {
     "name": "stdout",
     "output_type": "stream",
     "text": [
      "  countryiso3code  date      value_x unit_x obs_status_x  decimal_x  \\\n",
      "0             AFE  2024  3968.963751                              0   \n",
      "1             AFE  2023  3948.142721                              0   \n",
      "2             AFE  2022  3974.244214                              0   \n",
      "3             AFE  2021  3933.580905                              0   \n",
      "4             AFE  2020  3861.068816                              0   \n",
      "\n",
      "      indicator.id_x                                  indicator.value_x  \\\n",
      "0  NY.GDP.PCAP.PP.KD  GDP per capita, PPP (constant 2021 internation...   \n",
      "1  NY.GDP.PCAP.PP.KD  GDP per capita, PPP (constant 2021 internation...   \n",
      "2  NY.GDP.PCAP.PP.KD  GDP per capita, PPP (constant 2021 internation...   \n",
      "3  NY.GDP.PCAP.PP.KD  GDP per capita, PPP (constant 2021 internation...   \n",
      "4  NY.GDP.PCAP.PP.KD  GDP per capita, PPP (constant 2021 internation...   \n",
      "\n",
      "  country.id                country.value  ...  unit_y obs_status_y decimal_y  \\\n",
      "0         ZH  Africa Eastern and Southern  ...                              0   \n",
      "1         ZH  Africa Eastern and Southern  ...                              0   \n",
      "2         ZH  Africa Eastern and Southern  ...                              0   \n",
      "3         ZH  Africa Eastern and Southern  ...                              0   \n",
      "4         ZH  Africa Eastern and Southern  ...                              0   \n",
      "\n",
      "   indicator.id_y                        indicator.value_y   id name  \\\n",
      "0  SP.DYN.LE00.IN  Life expectancy at birth, total (years)  NaN  NaN   \n",
      "1  SP.DYN.LE00.IN  Life expectancy at birth, total (years)  NaN  NaN   \n",
      "2  SP.DYN.LE00.IN  Life expectancy at birth, total (years)  NaN  NaN   \n",
      "3  SP.DYN.LE00.IN  Life expectancy at birth, total (years)  NaN  NaN   \n",
      "4  SP.DYN.LE00.IN  Life expectancy at birth, total (years)  NaN  NaN   \n",
      "\n",
      "  region.value incomeLevel.value capitalCity  \n",
      "0          NaN               NaN         NaN  \n",
      "1          NaN               NaN         NaN  \n",
      "2          NaN               NaN         NaN  \n",
      "3          NaN               NaN         NaN  \n",
      "4          NaN               NaN         NaN  \n",
      "\n",
      "[5 rows x 21 columns]\n"
     ]
    }
   ],
   "source": [
    "print(fullmerge2.head())"
   ]
  },
  {
   "cell_type": "code",
   "execution_count": 41,
   "id": "6f22987f-85d0-4955-a276-c70dc206d6bb",
   "metadata": {},
   "outputs": [],
   "source": [
    "fullmerge3 = merged.merge(\n",
    "    country_df,\n",
    "    left_on=\"countryiso3code\",   \n",
    "    right_on=\"id\",               \n",
    "    how=\"inner\"\n",
    ")"
   ]
  },
  {
   "cell_type": "code",
   "execution_count": 42,
   "id": "89c65555-33b9-4cb2-9162-af447f1087f4",
   "metadata": {},
   "outputs": [
    {
     "name": "stdout",
     "output_type": "stream",
     "text": [
      "  countryiso3code  date      value_x unit_x obs_status_x  decimal_x  \\\n",
      "0             AFG  2024          NaN                              0   \n",
      "1             AFG  2023  1983.812620                              0   \n",
      "2             AFG  2022  1981.710168                              0   \n",
      "3             AFG  2021  2144.166570                              0   \n",
      "4             AFG  2020  2769.685745                              0   \n",
      "\n",
      "      indicator.id_x                                  indicator.value_x  \\\n",
      "0  NY.GDP.PCAP.PP.KD  GDP per capita, PPP (constant 2021 internation...   \n",
      "1  NY.GDP.PCAP.PP.KD  GDP per capita, PPP (constant 2021 internation...   \n",
      "2  NY.GDP.PCAP.PP.KD  GDP per capita, PPP (constant 2021 internation...   \n",
      "3  NY.GDP.PCAP.PP.KD  GDP per capita, PPP (constant 2021 internation...   \n",
      "4  NY.GDP.PCAP.PP.KD  GDP per capita, PPP (constant 2021 internation...   \n",
      "\n",
      "  country.id country.value  ...  unit_y obs_status_y decimal_y  \\\n",
      "0         AF   Afghanistan  ...                              0   \n",
      "1         AF   Afghanistan  ...                              0   \n",
      "2         AF   Afghanistan  ...                              0   \n",
      "3         AF   Afghanistan  ...                              0   \n",
      "4         AF   Afghanistan  ...                              0   \n",
      "\n",
      "   indicator.id_y                        indicator.value_y   id         name  \\\n",
      "0  SP.DYN.LE00.IN  Life expectancy at birth, total (years)  AFG  Afghanistan   \n",
      "1  SP.DYN.LE00.IN  Life expectancy at birth, total (years)  AFG  Afghanistan   \n",
      "2  SP.DYN.LE00.IN  Life expectancy at birth, total (years)  AFG  Afghanistan   \n",
      "3  SP.DYN.LE00.IN  Life expectancy at birth, total (years)  AFG  Afghanistan   \n",
      "4  SP.DYN.LE00.IN  Life expectancy at birth, total (years)  AFG  Afghanistan   \n",
      "\n",
      "                                        region.value incomeLevel.value  \\\n",
      "0  Middle East, North Africa, Afghanistan & Pakistan        Low income   \n",
      "1  Middle East, North Africa, Afghanistan & Pakistan        Low income   \n",
      "2  Middle East, North Africa, Afghanistan & Pakistan        Low income   \n",
      "3  Middle East, North Africa, Afghanistan & Pakistan        Low income   \n",
      "4  Middle East, North Africa, Afghanistan & Pakistan        Low income   \n",
      "\n",
      "  capitalCity  \n",
      "0       Kabul  \n",
      "1       Kabul  \n",
      "2       Kabul  \n",
      "3       Kabul  \n",
      "4       Kabul  \n",
      "\n",
      "[5 rows x 21 columns]\n"
     ]
    }
   ],
   "source": [
    "print(fullmerge3.head())"
   ]
  },
  {
   "cell_type": "code",
   "execution_count": null,
   "id": "6945e1e6-ada1-40a9-87c1-5fc5c4d2a1ed",
   "metadata": {},
   "outputs": [],
   "source": []
  }
 ],
 "metadata": {
  "kernelspec": {
   "display_name": "Python [conda env:base] *",
   "language": "python",
   "name": "conda-base-py"
  },
  "language_info": {
   "codemirror_mode": {
    "name": "ipython",
    "version": 3
   },
   "file_extension": ".py",
   "mimetype": "text/x-python",
   "name": "python",
   "nbconvert_exporter": "python",
   "pygments_lexer": "ipython3",
   "version": "3.13.5"
  }
 },
 "nbformat": 4,
 "nbformat_minor": 5
}
